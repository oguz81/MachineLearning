{
  "nbformat": 4,
  "nbformat_minor": 0,
  "metadata": {
    "colab": {
      "provenance": [],
      "authorship_tag": "ABX9TyMzVnJEu+WxpPXSL9dU377f",
      "include_colab_link": true
    },
    "kernelspec": {
      "name": "python3",
      "display_name": "Python 3"
    },
    "language_info": {
      "name": "python"
    }
  },
  "cells": [
    {
      "cell_type": "markdown",
      "metadata": {
        "id": "view-in-github",
        "colab_type": "text"
      },
      "source": [
        "<a href=\"https://colab.research.google.com/github/oguz81/MachineLearning/blob/main/stackoverflowclassification.ipynb\" target=\"_parent\"><img src=\"https://colab.research.google.com/assets/colab-badge.svg\" alt=\"Open In Colab\"/></a>"
      ]
    },
    {
      "cell_type": "code",
      "execution_count": null,
      "metadata": {
        "id": "nk27CmbXba_Y"
      },
      "outputs": [],
      "source": [
        "# A basic ML model to classify stackoverflow questions.\n",
        "# This is an exercise about text classification from tensorflow.org\n",
        "# The model predicts which programming language stackoverflow questions are about.\n",
        "# Oguz D. 1/7/24\n",
        "\n",
        "import tensorflow as tf\n",
        "import os\n",
        "import re\n",
        "import shutil\n",
        "import string\n",
        "import matplotlib.pyplot as plt\n",
        "\n",
        "from tensorflow.keras import layers\n",
        "from tensorflow.keras import losses\n",
        "url = \"https://storage.googleapis.com/download.tensorflow.org/data/stack_overflow_16k.tar.gz\"\n",
        "dataset = tf.keras.utils.get_file(\"stack_overflow_16k\", url,\n",
        "                                  untar=True, cache_dir='.',\n",
        "                                  cache_subdir='')\n"
      ]
    },
    {
      "cell_type": "code",
      "source": [
        "train_dir = os.path.join(os.path.dirname(dataset), 'train')\n",
        "os.listdir(train_dir)"
      ],
      "metadata": {
        "colab": {
          "base_uri": "https://localhost:8080/"
        },
        "id": "7qRoiYpefWZb",
        "outputId": "f5444f91-123f-447d-c1c3-f2eb2432cb8d"
      },
      "execution_count": null,
      "outputs": [
        {
          "output_type": "execute_result",
          "data": {
            "text/plain": [
              "['java', 'javascript', 'csharp', 'python']"
            ]
          },
          "metadata": {},
          "execution_count": 36
        }
      ]
    },
    {
      "cell_type": "code",
      "source": [
        "test_dir = os.path.join(os.path.dirname(dataset), 'test')\n",
        "os.listdir(test_dir)"
      ],
      "metadata": {
        "colab": {
          "base_uri": "https://localhost:8080/"
        },
        "id": "qd8wrFSP2Udv",
        "outputId": "bfab31e5-e254-4ea1-c454-20992e5bdd9a"
      },
      "execution_count": null,
      "outputs": [
        {
          "output_type": "execute_result",
          "data": {
            "text/plain": [
              "['java', 'javascript', 'csharp', 'python']"
            ]
          },
          "metadata": {},
          "execution_count": 37
        }
      ]
    },
    {
      "cell_type": "code",
      "source": [
        "sample_file = os.path.join(train_dir, 'csharp/3.txt')\n",
        "with open(sample_file) as f:\n",
        "  print(f.read())"
      ],
      "metadata": {
        "colab": {
          "base_uri": "https://localhost:8080/"
        },
        "id": "pxu0Bq483AZt",
        "outputId": "255c92d7-5c13-45eb-998d-5f1f5e45471c"
      },
      "execution_count": null,
      "outputs": [
        {
          "output_type": "stream",
          "name": "stdout",
          "text": [
            "\"how to extract the local time from gsm sim card by a gsm modem is there any method to extract the time from sim card in blank? i am using it as a alternate for time synchronization where internet is not present....  //----------- edit 1 ----------------------------------- till now i.  have tried gsm library for sending and receiving of sms. but it doesnt.  have any support to get time. i am using visual studio 2010, win form..  its a pure desktop application...kindly please dont close the question. its a straight forward question, all i am getting the time from sim card.\"\n",
            "\n"
          ]
        }
      ]
    },
    {
      "cell_type": "code",
      "source": [
        "batch_size = 64\n",
        "seed = 42\n",
        "\n",
        "raw_train_ds = tf.keras.utils.text_dataset_from_directory(\n",
        "    'train',\n",
        "    batch_size=batch_size,\n",
        "    validation_split=0.2,\n",
        "    subset='training',\n",
        "    seed=seed\n",
        ")"
      ],
      "metadata": {
        "colab": {
          "base_uri": "https://localhost:8080/"
        },
        "id": "81QrdH4A56tH",
        "outputId": "716ae07a-2cc4-4aa3-f016-f48c10274495"
      },
      "execution_count": null,
      "outputs": [
        {
          "output_type": "stream",
          "name": "stdout",
          "text": [
            "Found 8000 files belonging to 4 classes.\n",
            "Using 6400 files for training.\n"
          ]
        }
      ]
    },
    {
      "cell_type": "code",
      "source": [
        "for text_batch, label_batch in raw_train_ds.take(1):\n",
        "  for i in range(3):\n",
        "    print(\"Question\", text_batch.numpy()[i])\n",
        "    print(\"Label\", label_batch.numpy()[i])"
      ],
      "metadata": {
        "colab": {
          "base_uri": "https://localhost:8080/"
        },
        "id": "6JLzZA186hSP",
        "outputId": "0ff1028a-a986-4d46-f4e3-6e7682b7c387"
      },
      "execution_count": null,
      "outputs": [
        {
          "output_type": "stream",
          "name": "stdout",
          "text": [
            "Question b'\"unboundlocalerror: pygame music play and stop not working (on keydown) i\\'m trying to play and stop a music in my main page...it\\'s kind of weird..from my code,.if the user press \"\"m\"\", suppose, the music should be off..however, the music didn\\'t off. it continue..unboundlocalerror: local variable \\'music_playing\\' referenced before assignment  ...can someone help me with my code?..pickupsound = pygame.mixer.music.load(\\'test.mp3\\').pygame.mixer.music.play(-1).music_playing = true..def mainmenu():.    main = pygame.image.load(\\'menu.jpg\\').    screen.blit(main,(0,0)).    while true:.        pygame.display.update().        for event in pygame.event.get():.            if event.type == pygame.quit:.                pygame.quit().                quit().            if event.type == keydown:.                if event.key == ord(\\'m\\'):.                    if music_playing:.                        pygame.mixer.music.stop().                    else:.                        pygame.mixer.music.play(-1).                    music_playing = not music_playing\"\\n'\n",
            "Label 3\n",
            "Question b'\"blank code slow skin detection this code changes the color space to lab and using a threshold finds the skin area of an image. but it\\'s ridiculously slow. i don\\'t know how to make it faster ?    ..from colormath.color_objects import *..def skindetection(img, treshold=80, color=[255,20,147]):..    print img.shape.    res=img.copy().    for x in range(img.shape[0]):.        for y in range(img.shape[1]):.            rgbimg=rgbcolor(img[x,y,0],img[x,y,1],img[x,y,2]).            labimg=rgbimg.convert_to(\\'lab\\', debug=false).            if (labimg.lab_l &gt; treshold):.                res[x,y,:]=color.            else: .                res[x,y,:]=img[x,y,:]..    return res\"\\n'\n",
            "Label 3\n",
            "Question b'\"tkinter how to import multiple functions from a list to another blank file so i have 2 files, scratch.py and scratch_2.py..in scratch.py i have defined 3 functions, and added them to a list..when i import the list with the functions from scratch.py into scracth_2.py and try to call one of the functions it shows that they havent been defined..is it possible to add some functions to a list and only import that list so it contains all the functions? scratch.py and scratch_2.py\"\\n'\n",
            "Label 3\n"
          ]
        }
      ]
    },
    {
      "cell_type": "code",
      "source": [
        "print(\"Label 0 is \", raw_train_ds.class_names[0])\n",
        "print(\"Label 1 is \", raw_train_ds.class_names[1])\n",
        "print(\"Label 2 is \", raw_train_ds.class_names[2])\n",
        "print(\"Label 3 is \", raw_train_ds.class_names[3])"
      ],
      "metadata": {
        "colab": {
          "base_uri": "https://localhost:8080/"
        },
        "id": "cH6LRvoz7PXo",
        "outputId": "2755a452-217b-463e-a60b-891311b60b01"
      },
      "execution_count": null,
      "outputs": [
        {
          "output_type": "stream",
          "name": "stdout",
          "text": [
            "Label 0 is  csharp\n",
            "Label 1 is  java\n",
            "Label 2 is  javascript\n",
            "Label 3 is  python\n"
          ]
        }
      ]
    },
    {
      "cell_type": "code",
      "source": [
        "raw_val_ds = tf.keras.utils.text_dataset_from_directory(\n",
        "    'train',\n",
        "    batch_size=batch_size,\n",
        "    validation_split=0.2,\n",
        "    subset='validation',\n",
        "    seed=seed\n",
        ")"
      ],
      "metadata": {
        "colab": {
          "base_uri": "https://localhost:8080/"
        },
        "id": "5cC9NYsW70cz",
        "outputId": "823e67b4-0cf3-4de7-cb30-faae2b430e77"
      },
      "execution_count": null,
      "outputs": [
        {
          "output_type": "stream",
          "name": "stdout",
          "text": [
            "Found 8000 files belonging to 4 classes.\n",
            "Using 1600 files for validation.\n"
          ]
        }
      ]
    },
    {
      "cell_type": "code",
      "source": [
        "raw_test_ds = tf.keras.utils.text_dataset_from_directory(\n",
        "    'test',\n",
        "    batch_size=batch_size\n",
        ")"
      ],
      "metadata": {
        "colab": {
          "base_uri": "https://localhost:8080/"
        },
        "id": "4zcnHCsH8SJW",
        "outputId": "808eb951-b29a-48c4-8830-30671e9fdbc8"
      },
      "execution_count": null,
      "outputs": [
        {
          "output_type": "stream",
          "name": "stdout",
          "text": [
            "Found 8000 files belonging to 4 classes.\n"
          ]
        }
      ]
    },
    {
      "cell_type": "code",
      "source": [
        "vectorize_layer = layers.TextVectorization(\n",
        "    standardize=None,\n",
        "    max_tokens=1000,\n",
        "    output_mode='int',\n",
        "    output_sequence_length=250\n",
        ")\n",
        "\n",
        "train_text = raw_train_ds.map(lambda x, y: x)\n",
        "vectorize_layer.adapt(train_text)"
      ],
      "metadata": {
        "id": "Ya5GaF2rKaFs"
      },
      "execution_count": null,
      "outputs": []
    },
    {
      "cell_type": "code",
      "source": [
        "def vectorize_text(text, label):\n",
        "  text = tf.expand_dims(text, -1)\n",
        "  return vectorize_layer(text), label"
      ],
      "metadata": {
        "id": "oPbU_OANLjpD"
      },
      "execution_count": null,
      "outputs": []
    },
    {
      "cell_type": "code",
      "source": [
        "text_batch, label_batch = next(iter(raw_train_ds))\n",
        "first_question, first_label = text_batch[0], label_batch[0]\n",
        "print(\"Question\", first_question)\n",
        "print(\"Label\", raw_train_ds.class_names[first_label])\n",
        "print(\"Vectorized question\", vectorize_text(first_question, first_label))"
      ],
      "metadata": {
        "colab": {
          "base_uri": "https://localhost:8080/"
        },
        "id": "Jcr1SVHCLzXB",
        "outputId": "3ce73541-ed9c-49fe-a217-e0621662e29e"
      },
      "execution_count": null,
      "outputs": [
        {
          "output_type": "stream",
          "name": "stdout",
          "text": [
            "Question tf.Tensor(b'\"simple program not giving desired output i am starting to learn blank and i have a simple program to request two numbers from the user and add them together. when i run my program , i get asked for the first number , i type it in and that\\'s it, the program doesn\\'t go any further. i am running it in visual studio..can anyone tell me what i\\'m doing wrong? ..using system;..namespace coding.{.    class program.    {.        static void main(string[] args).        {..            int number1;.            int number2;.            int result;...            console.writeline(\"\"enter first  number to be calculated\"\");.            number1 = convert.toint32(console.readline());...            console.writeline(\"\"enter second  number to be calculated\"\");.            number2 = convert.toint32(console.readline());..            result = number1 + number2;.            console.writeline(\"\"the total is\"\" + \"\" \"\" + result);.        }.    }.}...result screenshot\"\\n', shape=(), dtype=string)\n",
            "Label csharp\n",
            "Vectorized question (<tf.Tensor: shape=(1, 250), dtype=int64, numpy=\n",
            "array([[  1, 104,  23, 688,   1, 138,   5,  33, 765,   4,   1,  29,  10,\n",
            "          5,  19,   6, 248, 104,   4, 643, 117, 210,  31,   2, 111,  10,\n",
            "        129, 208,   1,  47,   5, 146,  24, 104, 222,   5,  48, 954,  13,\n",
            "          2, 105,  86, 222,   5, 154,  14,   7,  10, 796, 513,   2, 104,\n",
            "        183, 310,  77,   1,   5,  33, 332,  14,   7, 819,   1, 272, 401,\n",
            "         83,  63,  60, 201,   1,   1,   1,   1,  34, 742,   9,  55,  42,\n",
            "        189, 572, 106,  40,   1,  40,   1,  40,   1,   1, 105,  86,   4,\n",
            "         32,   1,   1,   3,   1,   1, 209,  86,   4,  32,   1,   1,   3,\n",
            "          1, 157,   3,   1,  17,   1,   1, 339,   1,  17,  57,  57,  17,\n",
            "          1,  20,   1,   1,   0,   0,   0,   0,   0,   0,   0,   0,   0,\n",
            "          0,   0,   0,   0,   0,   0,   0,   0,   0,   0,   0,   0,   0,\n",
            "          0,   0,   0,   0,   0,   0,   0,   0,   0,   0,   0,   0,   0,\n",
            "          0,   0,   0,   0,   0,   0,   0,   0,   0,   0,   0,   0,   0,\n",
            "          0,   0,   0,   0,   0,   0,   0,   0,   0,   0,   0,   0,   0,\n",
            "          0,   0,   0,   0,   0,   0,   0,   0,   0,   0,   0,   0,   0,\n",
            "          0,   0,   0,   0,   0,   0,   0,   0,   0,   0,   0,   0,   0,\n",
            "          0,   0,   0,   0,   0,   0,   0,   0,   0,   0,   0,   0,   0,\n",
            "          0,   0,   0,   0,   0,   0,   0,   0,   0,   0,   0,   0,   0,\n",
            "          0,   0,   0,   0,   0,   0,   0,   0,   0,   0,   0,   0,   0,\n",
            "          0,   0,   0]])>, <tf.Tensor: shape=(), dtype=int32, numpy=0>)\n"
          ]
        }
      ]
    },
    {
      "cell_type": "code",
      "source": [
        "print(\"75-->\", vectorize_layer.get_vocabulary()[75])"
      ],
      "metadata": {
        "colab": {
          "base_uri": "https://localhost:8080/"
        },
        "id": "0ciDlDKuNNjP",
        "outputId": "9998bc2f-a5e1-401c-8c0b-321aaa73930f"
      },
      "execution_count": null,
      "outputs": [
        {
          "output_type": "stream",
          "name": "stdout",
          "text": [
            "75--> method\n"
          ]
        }
      ]
    },
    {
      "cell_type": "code",
      "source": [
        "train_ds = raw_train_ds.map(vectorize_text)\n",
        "val_ds = raw_val_ds.map(vectorize_text)\n",
        "test_ds = raw_test_ds.map(vectorize_text)"
      ],
      "metadata": {
        "id": "nXpOYrjRN9R9"
      },
      "execution_count": null,
      "outputs": []
    },
    {
      "cell_type": "code",
      "source": [
        "AUTOTUNE = tf.data.AUTOTUNE\n",
        "train_ds = train_ds.cache().prefetch(buffer_size=AUTOTUNE)\n",
        "val_ds = val_ds.cache().prefetch(buffer_size=AUTOTUNE)\n",
        "test_ds = test_ds.cache().prefetch(buffer_size=AUTOTUNE)"
      ],
      "metadata": {
        "id": "bXEvEhxiObl-"
      },
      "execution_count": null,
      "outputs": []
    },
    {
      "cell_type": "code",
      "source": [
        "embedding_dim = 16\n",
        "model = tf.keras.Sequential([\n",
        "    layers.Embedding(1000, embedding_dim),\n",
        "    layers.Dropout(0.2),\n",
        "    layers.GlobalAveragePooling1D(),\n",
        "    layers.Dropout(0.2),\n",
        "    layers.Dense(4, activation='relu')\n",
        "])\n",
        "\n",
        "model.summary()"
      ],
      "metadata": {
        "colab": {
          "base_uri": "https://localhost:8080/"
        },
        "id": "pjqzeeWd4E6A",
        "outputId": "e2a525c8-b6db-4b3b-ac51-3ee2c21709e1"
      },
      "execution_count": null,
      "outputs": [
        {
          "output_type": "stream",
          "name": "stdout",
          "text": [
            "Model: \"sequential_6\"\n",
            "_________________________________________________________________\n",
            " Layer (type)                Output Shape              Param #   \n",
            "=================================================================\n",
            " embedding_6 (Embedding)     (None, None, 16)          16000     \n",
            "                                                                 \n",
            " dropout_12 (Dropout)        (None, None, 16)          0         \n",
            "                                                                 \n",
            " global_average_pooling1d_6  (None, 16)                0         \n",
            "  (GlobalAveragePooling1D)                                       \n",
            "                                                                 \n",
            " dropout_13 (Dropout)        (None, 16)                0         \n",
            "                                                                 \n",
            " dense_6 (Dense)             (None, 4)                 68        \n",
            "                                                                 \n",
            "=================================================================\n",
            "Total params: 16068 (62.77 KB)\n",
            "Trainable params: 16068 (62.77 KB)\n",
            "Non-trainable params: 0 (0.00 Byte)\n",
            "_________________________________________________________________\n"
          ]
        }
      ]
    },
    {
      "cell_type": "code",
      "source": [
        "model.compile(loss=losses.SparseCategoricalCrossentropy(from_logits=True),\n",
        "              optimizer='adam',\n",
        "              metrics=['accuracy'])"
      ],
      "metadata": {
        "id": "p_9C9ETE6kBv"
      },
      "execution_count": null,
      "outputs": []
    },
    {
      "cell_type": "code",
      "source": [
        "epochs = 60\n",
        "history = model.fit(\n",
        "    train_ds,\n",
        "    validation_data=val_ds,\n",
        "    epochs=epochs\n",
        ")"
      ],
      "metadata": {
        "colab": {
          "base_uri": "https://localhost:8080/"
        },
        "id": "OD6HEb_q61dM",
        "outputId": "ba6276d2-8f4a-4de5-fc1a-46054d3858fa"
      },
      "execution_count": null,
      "outputs": [
        {
          "output_type": "stream",
          "name": "stdout",
          "text": [
            "Epoch 1/60\n",
            "100/100 [==============================] - 2s 10ms/step - loss: 1.3828 - accuracy: 0.3222 - val_loss: 1.3785 - val_accuracy: 0.3494\n",
            "Epoch 2/60\n",
            "100/100 [==============================] - 1s 12ms/step - loss: 1.3725 - accuracy: 0.3897 - val_loss: 1.3646 - val_accuracy: 0.3825\n",
            "Epoch 3/60\n",
            "100/100 [==============================] - 1s 14ms/step - loss: 1.3543 - accuracy: 0.4467 - val_loss: 1.3419 - val_accuracy: 0.4694\n",
            "Epoch 4/60\n",
            "100/100 [==============================] - 1s 15ms/step - loss: 1.3303 - accuracy: 0.4839 - val_loss: 1.3151 - val_accuracy: 0.5119\n",
            "Epoch 5/60\n",
            "100/100 [==============================] - 1s 9ms/step - loss: 1.3027 - accuracy: 0.4997 - val_loss: 1.2851 - val_accuracy: 0.5294\n",
            "Epoch 6/60\n",
            "100/100 [==============================] - 1s 9ms/step - loss: 1.2717 - accuracy: 0.5234 - val_loss: 1.2522 - val_accuracy: 0.5519\n",
            "Epoch 7/60\n",
            "100/100 [==============================] - 1s 9ms/step - loss: 1.2389 - accuracy: 0.5420 - val_loss: 1.2182 - val_accuracy: 0.5788\n",
            "Epoch 8/60\n",
            "100/100 [==============================] - 1s 9ms/step - loss: 1.2054 - accuracy: 0.5789 - val_loss: 1.1832 - val_accuracy: 0.6175\n",
            "Epoch 9/60\n",
            "100/100 [==============================] - 1s 8ms/step - loss: 1.1696 - accuracy: 0.5922 - val_loss: 1.1483 - val_accuracy: 0.6250\n",
            "Epoch 10/60\n",
            "100/100 [==============================] - 1s 8ms/step - loss: 1.1372 - accuracy: 0.6084 - val_loss: 1.1151 - val_accuracy: 0.6513\n",
            "Epoch 11/60\n",
            "100/100 [==============================] - 1s 8ms/step - loss: 1.1074 - accuracy: 0.6273 - val_loss: 1.0828 - val_accuracy: 0.6700\n",
            "Epoch 12/60\n",
            "100/100 [==============================] - 1s 8ms/step - loss: 1.0731 - accuracy: 0.6456 - val_loss: 1.0517 - val_accuracy: 0.6781\n",
            "Epoch 13/60\n",
            "100/100 [==============================] - 1s 8ms/step - loss: 1.0468 - accuracy: 0.6542 - val_loss: 1.0235 - val_accuracy: 0.6938\n",
            "Epoch 14/60\n",
            "100/100 [==============================] - 1s 13ms/step - loss: 1.0191 - accuracy: 0.6683 - val_loss: 0.9949 - val_accuracy: 0.7019\n",
            "Epoch 15/60\n",
            "100/100 [==============================] - 1s 8ms/step - loss: 0.9938 - accuracy: 0.6806 - val_loss: 0.9695 - val_accuracy: 0.7063\n",
            "Epoch 16/60\n",
            "100/100 [==============================] - 1s 8ms/step - loss: 0.9678 - accuracy: 0.6919 - val_loss: 0.9452 - val_accuracy: 0.7131\n",
            "Epoch 17/60\n",
            "100/100 [==============================] - 1s 8ms/step - loss: 0.9424 - accuracy: 0.7003 - val_loss: 0.9225 - val_accuracy: 0.7212\n",
            "Epoch 18/60\n",
            "100/100 [==============================] - 1s 8ms/step - loss: 0.9207 - accuracy: 0.7025 - val_loss: 0.9004 - val_accuracy: 0.7287\n",
            "Epoch 19/60\n",
            "100/100 [==============================] - 1s 8ms/step - loss: 0.8995 - accuracy: 0.7167 - val_loss: 0.8812 - val_accuracy: 0.7369\n",
            "Epoch 20/60\n",
            "100/100 [==============================] - 1s 8ms/step - loss: 0.8818 - accuracy: 0.7144 - val_loss: 0.8624 - val_accuracy: 0.7350\n",
            "Epoch 21/60\n",
            "100/100 [==============================] - 1s 8ms/step - loss: 0.8605 - accuracy: 0.7197 - val_loss: 0.8448 - val_accuracy: 0.7400\n",
            "Epoch 22/60\n",
            "100/100 [==============================] - 1s 8ms/step - loss: 0.8457 - accuracy: 0.7241 - val_loss: 0.8285 - val_accuracy: 0.7431\n",
            "Epoch 23/60\n",
            "100/100 [==============================] - 1s 8ms/step - loss: 0.8301 - accuracy: 0.7292 - val_loss: 0.8135 - val_accuracy: 0.7450\n",
            "Epoch 24/60\n",
            "100/100 [==============================] - 1s 9ms/step - loss: 0.8157 - accuracy: 0.7286 - val_loss: 0.7994 - val_accuracy: 0.7519\n",
            "Epoch 25/60\n",
            "100/100 [==============================] - 1s 12ms/step - loss: 0.7998 - accuracy: 0.7339 - val_loss: 0.7861 - val_accuracy: 0.7525\n",
            "Epoch 26/60\n",
            "100/100 [==============================] - 1s 13ms/step - loss: 0.7838 - accuracy: 0.7416 - val_loss: 0.7738 - val_accuracy: 0.7538\n",
            "Epoch 27/60\n",
            "100/100 [==============================] - 1s 8ms/step - loss: 0.7718 - accuracy: 0.7456 - val_loss: 0.7619 - val_accuracy: 0.7531\n",
            "Epoch 28/60\n",
            "100/100 [==============================] - 1s 8ms/step - loss: 0.7579 - accuracy: 0.7500 - val_loss: 0.7504 - val_accuracy: 0.7569\n",
            "Epoch 29/60\n",
            "100/100 [==============================] - 1s 8ms/step - loss: 0.7489 - accuracy: 0.7475 - val_loss: 0.7401 - val_accuracy: 0.7594\n",
            "Epoch 30/60\n",
            "100/100 [==============================] - 1s 8ms/step - loss: 0.7364 - accuracy: 0.7514 - val_loss: 0.7299 - val_accuracy: 0.7563\n",
            "Epoch 31/60\n",
            "100/100 [==============================] - 1s 8ms/step - loss: 0.7249 - accuracy: 0.7530 - val_loss: 0.7214 - val_accuracy: 0.7625\n",
            "Epoch 32/60\n",
            "100/100 [==============================] - 1s 8ms/step - loss: 0.7185 - accuracy: 0.7553 - val_loss: 0.7123 - val_accuracy: 0.7619\n",
            "Epoch 33/60\n",
            "100/100 [==============================] - 1s 8ms/step - loss: 0.7061 - accuracy: 0.7581 - val_loss: 0.7036 - val_accuracy: 0.7625\n",
            "Epoch 34/60\n",
            "100/100 [==============================] - 1s 8ms/step - loss: 0.6979 - accuracy: 0.7613 - val_loss: 0.6963 - val_accuracy: 0.7638\n",
            "Epoch 35/60\n",
            "100/100 [==============================] - 1s 8ms/step - loss: 0.6889 - accuracy: 0.7692 - val_loss: 0.6893 - val_accuracy: 0.7688\n",
            "Epoch 36/60\n",
            "100/100 [==============================] - 1s 12ms/step - loss: 0.6820 - accuracy: 0.7686 - val_loss: 0.6823 - val_accuracy: 0.7681\n",
            "Epoch 37/60\n",
            "100/100 [==============================] - 1s 13ms/step - loss: 0.6714 - accuracy: 0.7688 - val_loss: 0.6754 - val_accuracy: 0.7675\n",
            "Epoch 38/60\n",
            "100/100 [==============================] - 1s 8ms/step - loss: 0.6624 - accuracy: 0.7711 - val_loss: 0.6688 - val_accuracy: 0.7688\n",
            "Epoch 39/60\n",
            "100/100 [==============================] - 1s 8ms/step - loss: 0.6577 - accuracy: 0.7695 - val_loss: 0.6626 - val_accuracy: 0.7713\n",
            "Epoch 40/60\n",
            "100/100 [==============================] - 1s 8ms/step - loss: 0.6511 - accuracy: 0.7716 - val_loss: 0.6573 - val_accuracy: 0.7694\n",
            "Epoch 41/60\n",
            "100/100 [==============================] - 1s 8ms/step - loss: 0.6455 - accuracy: 0.7748 - val_loss: 0.6520 - val_accuracy: 0.7700\n",
            "Epoch 42/60\n",
            "100/100 [==============================] - 1s 8ms/step - loss: 0.6378 - accuracy: 0.7850 - val_loss: 0.6468 - val_accuracy: 0.7694\n",
            "Epoch 43/60\n",
            "100/100 [==============================] - 1s 8ms/step - loss: 0.6299 - accuracy: 0.7786 - val_loss: 0.6421 - val_accuracy: 0.7738\n",
            "Epoch 44/60\n",
            "100/100 [==============================] - 1s 8ms/step - loss: 0.6241 - accuracy: 0.7831 - val_loss: 0.6377 - val_accuracy: 0.7725\n",
            "Epoch 45/60\n",
            "100/100 [==============================] - 1s 8ms/step - loss: 0.6197 - accuracy: 0.7808 - val_loss: 0.6329 - val_accuracy: 0.7744\n",
            "Epoch 46/60\n",
            "100/100 [==============================] - 1s 11ms/step - loss: 0.6119 - accuracy: 0.7841 - val_loss: 0.6284 - val_accuracy: 0.7763\n",
            "Epoch 47/60\n",
            "100/100 [==============================] - 1s 12ms/step - loss: 0.6071 - accuracy: 0.7873 - val_loss: 0.6244 - val_accuracy: 0.7781\n",
            "Epoch 48/60\n",
            "100/100 [==============================] - 1s 12ms/step - loss: 0.5991 - accuracy: 0.7939 - val_loss: 0.6202 - val_accuracy: 0.7775\n",
            "Epoch 49/60\n",
            "100/100 [==============================] - 1s 8ms/step - loss: 0.5968 - accuracy: 0.7842 - val_loss: 0.6173 - val_accuracy: 0.7769\n",
            "Epoch 50/60\n",
            "100/100 [==============================] - 1s 8ms/step - loss: 0.5885 - accuracy: 0.7948 - val_loss: 0.6132 - val_accuracy: 0.7794\n",
            "Epoch 51/60\n",
            "100/100 [==============================] - 1s 8ms/step - loss: 0.5851 - accuracy: 0.7953 - val_loss: 0.6097 - val_accuracy: 0.7800\n",
            "Epoch 52/60\n",
            "100/100 [==============================] - 1s 8ms/step - loss: 0.5825 - accuracy: 0.7966 - val_loss: 0.6064 - val_accuracy: 0.7788\n",
            "Epoch 53/60\n",
            "100/100 [==============================] - 1s 8ms/step - loss: 0.5771 - accuracy: 0.7953 - val_loss: 0.6036 - val_accuracy: 0.7819\n",
            "Epoch 54/60\n",
            "100/100 [==============================] - 1s 8ms/step - loss: 0.5701 - accuracy: 0.8017 - val_loss: 0.6011 - val_accuracy: 0.7825\n",
            "Epoch 55/60\n",
            "100/100 [==============================] - 1s 8ms/step - loss: 0.5699 - accuracy: 0.7959 - val_loss: 0.5980 - val_accuracy: 0.7812\n",
            "Epoch 56/60\n",
            "100/100 [==============================] - 1s 8ms/step - loss: 0.5648 - accuracy: 0.7973 - val_loss: 0.5950 - val_accuracy: 0.7806\n",
            "Epoch 57/60\n",
            "100/100 [==============================] - 1s 14ms/step - loss: 0.5598 - accuracy: 0.8000 - val_loss: 0.5928 - val_accuracy: 0.7831\n",
            "Epoch 58/60\n",
            "100/100 [==============================] - 1s 12ms/step - loss: 0.5565 - accuracy: 0.8009 - val_loss: 0.5896 - val_accuracy: 0.7806\n",
            "Epoch 59/60\n",
            "100/100 [==============================] - 1s 10ms/step - loss: 0.5507 - accuracy: 0.8055 - val_loss: 0.5870 - val_accuracy: 0.7800\n",
            "Epoch 60/60\n",
            "100/100 [==============================] - 1s 8ms/step - loss: 0.5507 - accuracy: 0.8050 - val_loss: 0.5851 - val_accuracy: 0.7825\n"
          ]
        }
      ]
    },
    {
      "cell_type": "code",
      "source": [
        "loss, accuracy = model.evaluate(test_ds)\n",
        "print(\"Loss: \", loss)\n",
        "print(\"Accuracy: \", accuracy)"
      ],
      "metadata": {
        "colab": {
          "base_uri": "https://localhost:8080/"
        },
        "id": "zOrlWl-t7fgc",
        "outputId": "929f7aed-dc83-42f7-b0fd-b13e6d17b950"
      },
      "execution_count": null,
      "outputs": [
        {
          "output_type": "stream",
          "name": "stdout",
          "text": [
            "125/125 [==============================] - 0s 2ms/step - loss: 0.6265 - accuracy: 0.7580\n",
            "Loss:  0.626466691493988\n",
            "Accuracy:  0.7580000162124634\n"
          ]
        }
      ]
    },
    {
      "cell_type": "code",
      "source": [
        "history_dict = history.history\n",
        "history_dict.keys()"
      ],
      "metadata": {
        "colab": {
          "base_uri": "https://localhost:8080/"
        },
        "id": "foZgjlLF48ir",
        "outputId": "545b28b9-b776-4a16-c970-409e163844cb"
      },
      "execution_count": null,
      "outputs": [
        {
          "output_type": "execute_result",
          "data": {
            "text/plain": [
              "dict_keys(['loss', 'accuracy', 'val_loss', 'val_accuracy'])"
            ]
          },
          "metadata": {},
          "execution_count": 111
        }
      ]
    },
    {
      "cell_type": "code",
      "source": [
        "acc = history_dict['accuracy'] # the word 'accuracy' is inside the dict_keys.\n",
        "val_acc = history_dict['val_accuracy'] # and this 'val_accuracy' too.\n",
        "loss = history_dict['loss'] # and so on.\n",
        "val_loss = history_dict['val_loss'] # so on.\n",
        "\n",
        "epochs = range(1, len(acc) + 1)\n",
        "\n",
        "plt.plot(epochs, loss, 'bo', label='Training Loss')\n",
        "plt.plot(epochs, val_loss, 'b' ,label='Validation Loss')\n",
        "plt.title('Training and validation loss')\n",
        "plt.xlabel('Epochs')\n",
        "plt.ylabel('Loss')\n",
        "plt.legend()\n",
        "plt.show()\n",
        "\n"
      ],
      "metadata": {
        "colab": {
          "base_uri": "https://localhost:8080/",
          "height": 472
        },
        "id": "sZCtt0K-5B5R",
        "outputId": "cbc11577-fc0b-4906-a0a4-73ca8d249ac9"
      },
      "execution_count": null,
      "outputs": [
        {
          "output_type": "display_data",
          "data": {
            "text/plain": [
              "<Figure size 640x480 with 1 Axes>"
            ],
            "image/png": "[encoded data removed]"
          },
          "metadata": {}
        }
      ]
    },
    {
      "cell_type": "code",
      "source": [
        "plt.plot(epochs, acc, 'bo', label='Training acc')\n",
        "plt.plot(epochs, val_acc, 'b', label='Validation acc')\n",
        "plt.title('Training and validation accuracy')\n",
        "plt.xlabel('Epochs')\n",
        "plt.ylabel('Accuracy')\n",
        "plt.legend(loc='lower right')\n",
        "plt.show()"
      ],
      "metadata": {
        "colab": {
          "base_uri": "https://localhost:8080/",
          "height": 472
        },
        "id": "xRjEeaRkNtkE",
        "outputId": "c6650b84-c557-496b-de0e-f381b9ada884"
      },
      "execution_count": null,
      "outputs": [
        {
          "output_type": "display_data",
          "data": {
            "text/plain": [
              "<Figure size 640x480 with 1 Axes>"
            ],
            "image/png": "[encoded data removed]"
          },
          "metadata": {}
        }
      ]
    }
  ]
}